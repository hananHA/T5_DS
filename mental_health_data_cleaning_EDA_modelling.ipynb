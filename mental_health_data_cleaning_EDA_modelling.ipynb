{
 "cells": [
  {
   "cell_type": "markdown",
   "metadata": {},
   "source": [
    "# Analysing Mental Health of Employees in Tech Industry\n",
    "   *This project is a part of T5 Data Science Bootcamp provided by SDAIA Academy*\n",
    "\n",
    "Mental health affects our life in many aspects. It affects how we feel, think, act towards anything, and how we relate and communicate with others. It plays a major role in our emotional and social well-being. In our work community, mental health can also affects our productivity and engagement. The goal of this project is to analyse the mental health of the employees who work in tech companies according to a survey that is published every year by OSMI (Open Sourcing Mental Illness), which is a non-profit corporation that aims to raise awareness and change how we talk about our mental health as workers in tech communities. The survey introduces questions about mental health and it is answered by tech employees across the world. I will be using the responses from these surveys for analysing and determine whether an employee suffer from mental illness or not."
   ]
  },
  {
   "cell_type": "markdown",
   "metadata": {},
   "source": [
    "# Cleaning and Exploratory Data Analysis \n",
    "\n",
    "\n",
    "In the previous notebook, we collected our dataset from different surveys and organized each column to be an answer to a question. We also renamed the columns to indicate the domain of the question instead of having the question itself as a column name, which will be easier to read, access, and used in the model.\n",
    "\n",
    "In addition, since the answers are collected from multiple surveys, there are a few differences in answers that we need to clean and map to a specific set of answers *(e.g. 'No' and 'Never' will be 'No', 'male', 'Male' and 'M' will be 'm')*.\n",
    "\n",
    "So the final column names with their values will be as follows:\n",
    "\n",
    "- **self_employed**: Are you self employed?\n",
    "- **affected_productivity**: Do you believe your productivity is ever affected by a mental health disorder?\n",
    "- **care_about_mental_health**: Do you feel that your employer takes mental health as seriously as physical health?\n",
    "- **family_history**: Do you have a family history of mental illness?\n",
    "- **no_employees**: How many numbers of employees in you company?\n",
    "- **IT_related_job**: is your job related to IT?\n",
    "- **tech_industry_support**: Do you think that the tech industry supports mental health?\n",
    "- **race**: What is your race?\n",
    "- **disorders**: What disorders do you have / been diagnosed with?\n",
    "- **age**: What is your age?\n",
    "- **gender**: What is your gender?\n",
    "- **country**: What is your country?\n",
    "- **privacy**: Is your anonymity protected if you choose to take advantage of mental health resources?\n",
    "- **treated**: Have you ever been treated from / diagnosed with mental illness?\n",
    "- **work_interfere**: Do you think or does your mental illness interfere with your work?\n",
    "- **care_coverage**: Do you know the options for mental health care provided in your work?\n",
    "- **talk_to_coworkers**: Do you discuss / Have you ever discussed your mental health with your co-workers?\n",
    "- **talk_to_supervisors**: Do you discuss / Have you ever discussed your mental health with your supervisors?\n",
    "- **tech_organization**: Is your company primary a tech organization?\n",
    "- **interview_physical**: Would you be willing to bring up a physical health disorder with a potential employer in an interview?\n",
    "- **interview_mental**: Would you be willing to bring up a mental health disorder with a potential employer in an interview\n",
    "- **reveal_disorder**: Do you feel comfortable revealing your mental illness with clients or buisness partners?\n",
    "- **reveal_neg_impact**: Do you believe revealing mental health disorder will impact you negatively?\n",
    "- **neg_consequences**: Do you think that discussing or having a mental health disorder at work would result in negative consequences?\n",
    "- **career_damage**: Do you think being identified as a person with a mental health disorder affects your career?\n",
    "- **wellness_program**: Has your employer ever discussed mental health as part of an employee wellness program?\n",
    "- **shared_resources**: Does your employer offer resources to learn more about mental health concerns and options for seeking help?\n",
    "- **mental_importance**: Overall how much importance does your work place on mental health?\n",
    "- **physical_importance**: Overall how much importance does your work place on physical health?\n",
    "- **remote_work**: Do you work remotely?\n",
    "\n"
   ]
  },
  {
   "cell_type": "code",
   "execution_count": 260,
   "metadata": {},
   "outputs": [],
   "source": [
    "# Import needed libraries for cleaning and EDA\n",
    "import pandas as pd\n",
    "import seaborn as sns\n",
    "import matplotlib.pyplot as plt"
   ]
  },
  {
   "cell_type": "code",
   "execution_count": 261,
   "metadata": {},
   "outputs": [],
   "source": [
    "# Read the csv file containing our dataset\n",
    "df = pd.read_csv('mental_health_data/mental_health_in_tech_survey_combined.csv', index_col=0)"
   ]
  },
  {
   "cell_type": "code",
   "execution_count": 262,
   "metadata": {},
   "outputs": [
    {
     "data": {
      "text/html": [
       "<div>\n",
       "<style scoped>\n",
       "    .dataframe tbody tr th:only-of-type {\n",
       "        vertical-align: middle;\n",
       "    }\n",
       "\n",
       "    .dataframe tbody tr th {\n",
       "        vertical-align: top;\n",
       "    }\n",
       "\n",
       "    .dataframe thead th {\n",
       "        text-align: right;\n",
       "    }\n",
       "</style>\n",
       "<table border=\"1\" class=\"dataframe\">\n",
       "  <thead>\n",
       "    <tr style=\"text-align: right;\">\n",
       "      <th></th>\n",
       "      <th>self_employed</th>\n",
       "      <th>affected_productivity</th>\n",
       "      <th>care_about_mental_health</th>\n",
       "      <th>family_history</th>\n",
       "      <th>no_employees</th>\n",
       "      <th>IT_related_job</th>\n",
       "      <th>tech_industry_support</th>\n",
       "      <th>race</th>\n",
       "      <th>disorders</th>\n",
       "      <th>age</th>\n",
       "      <th>...</th>\n",
       "      <th>interview_mental</th>\n",
       "      <th>reveal_disorder</th>\n",
       "      <th>reveal_neg_impact</th>\n",
       "      <th>neg_consequences</th>\n",
       "      <th>career_damage</th>\n",
       "      <th>wellness_program</th>\n",
       "      <th>shared_resources</th>\n",
       "      <th>mental_importance</th>\n",
       "      <th>physical_importance</th>\n",
       "      <th>remote_work</th>\n",
       "    </tr>\n",
       "  </thead>\n",
       "  <tbody>\n",
       "    <tr>\n",
       "      <th>0</th>\n",
       "      <td>NaN</td>\n",
       "      <td>NaN</td>\n",
       "      <td>Yes</td>\n",
       "      <td>No</td>\n",
       "      <td>6-25</td>\n",
       "      <td>NaN</td>\n",
       "      <td>NaN</td>\n",
       "      <td>NaN</td>\n",
       "      <td>NaN</td>\n",
       "      <td>37.0</td>\n",
       "      <td>...</td>\n",
       "      <td>No</td>\n",
       "      <td>NaN</td>\n",
       "      <td>NaN</td>\n",
       "      <td>No</td>\n",
       "      <td>NaN</td>\n",
       "      <td>No</td>\n",
       "      <td>Yes</td>\n",
       "      <td>NaN</td>\n",
       "      <td>NaN</td>\n",
       "      <td>No</td>\n",
       "    </tr>\n",
       "    <tr>\n",
       "      <th>1</th>\n",
       "      <td>NaN</td>\n",
       "      <td>NaN</td>\n",
       "      <td>Don't know</td>\n",
       "      <td>No</td>\n",
       "      <td>More than 1000</td>\n",
       "      <td>NaN</td>\n",
       "      <td>NaN</td>\n",
       "      <td>NaN</td>\n",
       "      <td>NaN</td>\n",
       "      <td>44.0</td>\n",
       "      <td>...</td>\n",
       "      <td>No</td>\n",
       "      <td>NaN</td>\n",
       "      <td>NaN</td>\n",
       "      <td>Maybe</td>\n",
       "      <td>NaN</td>\n",
       "      <td>Don't know</td>\n",
       "      <td>Don't know</td>\n",
       "      <td>NaN</td>\n",
       "      <td>NaN</td>\n",
       "      <td>No</td>\n",
       "    </tr>\n",
       "    <tr>\n",
       "      <th>2</th>\n",
       "      <td>NaN</td>\n",
       "      <td>NaN</td>\n",
       "      <td>No</td>\n",
       "      <td>No</td>\n",
       "      <td>6-25</td>\n",
       "      <td>NaN</td>\n",
       "      <td>NaN</td>\n",
       "      <td>NaN</td>\n",
       "      <td>NaN</td>\n",
       "      <td>32.0</td>\n",
       "      <td>...</td>\n",
       "      <td>Yes</td>\n",
       "      <td>NaN</td>\n",
       "      <td>NaN</td>\n",
       "      <td>No</td>\n",
       "      <td>NaN</td>\n",
       "      <td>No</td>\n",
       "      <td>No</td>\n",
       "      <td>NaN</td>\n",
       "      <td>NaN</td>\n",
       "      <td>No</td>\n",
       "    </tr>\n",
       "    <tr>\n",
       "      <th>3</th>\n",
       "      <td>NaN</td>\n",
       "      <td>NaN</td>\n",
       "      <td>No</td>\n",
       "      <td>Yes</td>\n",
       "      <td>26-100</td>\n",
       "      <td>NaN</td>\n",
       "      <td>NaN</td>\n",
       "      <td>NaN</td>\n",
       "      <td>NaN</td>\n",
       "      <td>31.0</td>\n",
       "      <td>...</td>\n",
       "      <td>Maybe</td>\n",
       "      <td>NaN</td>\n",
       "      <td>NaN</td>\n",
       "      <td>Yes</td>\n",
       "      <td>NaN</td>\n",
       "      <td>No</td>\n",
       "      <td>No</td>\n",
       "      <td>NaN</td>\n",
       "      <td>NaN</td>\n",
       "      <td>No</td>\n",
       "    </tr>\n",
       "    <tr>\n",
       "      <th>4</th>\n",
       "      <td>NaN</td>\n",
       "      <td>NaN</td>\n",
       "      <td>Don't know</td>\n",
       "      <td>No</td>\n",
       "      <td>100-500</td>\n",
       "      <td>NaN</td>\n",
       "      <td>NaN</td>\n",
       "      <td>NaN</td>\n",
       "      <td>NaN</td>\n",
       "      <td>31.0</td>\n",
       "      <td>...</td>\n",
       "      <td>Yes</td>\n",
       "      <td>NaN</td>\n",
       "      <td>NaN</td>\n",
       "      <td>No</td>\n",
       "      <td>NaN</td>\n",
       "      <td>Don't know</td>\n",
       "      <td>Don't know</td>\n",
       "      <td>NaN</td>\n",
       "      <td>NaN</td>\n",
       "      <td>Yes</td>\n",
       "    </tr>\n",
       "  </tbody>\n",
       "</table>\n",
       "<p>5 rows × 30 columns</p>\n",
       "</div>"
      ],
      "text/plain": [
       "  self_employed affected_productivity care_about_mental_health family_history  \\\n",
       "0           NaN                   NaN                      Yes             No   \n",
       "1           NaN                   NaN               Don't know             No   \n",
       "2           NaN                   NaN                       No             No   \n",
       "3           NaN                   NaN                       No            Yes   \n",
       "4           NaN                   NaN               Don't know             No   \n",
       "\n",
       "     no_employees IT_related_job  tech_industry_support race disorders   age  \\\n",
       "0            6-25            NaN                    NaN  NaN       NaN  37.0   \n",
       "1  More than 1000            NaN                    NaN  NaN       NaN  44.0   \n",
       "2            6-25            NaN                    NaN  NaN       NaN  32.0   \n",
       "3          26-100            NaN                    NaN  NaN       NaN  31.0   \n",
       "4         100-500            NaN                    NaN  NaN       NaN  31.0   \n",
       "\n",
       "   ... interview_mental reveal_disorder reveal_neg_impact neg_consequences  \\\n",
       "0  ...               No             NaN               NaN               No   \n",
       "1  ...               No             NaN               NaN            Maybe   \n",
       "2  ...              Yes             NaN               NaN               No   \n",
       "3  ...            Maybe             NaN               NaN              Yes   \n",
       "4  ...              Yes             NaN               NaN               No   \n",
       "\n",
       "  career_damage wellness_program shared_resources mental_importance  \\\n",
       "0           NaN               No              Yes               NaN   \n",
       "1           NaN       Don't know       Don't know               NaN   \n",
       "2           NaN               No               No               NaN   \n",
       "3           NaN               No               No               NaN   \n",
       "4           NaN       Don't know       Don't know               NaN   \n",
       "\n",
       "  physical_importance remote_work  \n",
       "0                 NaN          No  \n",
       "1                 NaN          No  \n",
       "2                 NaN          No  \n",
       "3                 NaN          No  \n",
       "4                 NaN         Yes  \n",
       "\n",
       "[5 rows x 30 columns]"
      ]
     },
     "execution_count": 262,
     "metadata": {},
     "output_type": "execute_result"
    }
   ],
   "source": [
    "# Take a look at our data\n",
    "df.head()"
   ]
  },
  {
   "cell_type": "code",
   "execution_count": 264,
   "metadata": {},
   "outputs": [
    {
     "name": "stdout",
     "output_type": "stream",
     "text": [
      "<class 'pandas.core.frame.DataFrame'>\n",
      "Int64Index: 4398 entries, 0 to 4397\n",
      "Data columns (total 30 columns):\n",
      "self_employed               4380 non-null object\n",
      "affected_productivity       529 non-null object\n",
      "care_about_mental_health    2406 non-null object\n",
      "family_history              4398 non-null object\n",
      "no_employees                3869 non-null object\n",
      "IT_related_job              1726 non-null object\n",
      "tech_industry_support       1703 non-null float64\n",
      "race                        1052 non-null object\n",
      "disorders                   1998 non-null object\n",
      "age                         4396 non-null float64\n",
      "gender                      4372 non-null object\n",
      "country                     4396 non-null object\n",
      "privacy                     4332 non-null object\n",
      "treated                     4398 non-null object\n",
      "work_interfere              4134 non-null object\n",
      "care_coverage               4398 non-null object\n",
      "talk_to_coworkers           4332 non-null object\n",
      "talk_to_supervisors         4332 non-null object\n",
      "tech_organization           4083 non-null object\n",
      "interview_physical          4398 non-null object\n",
      "interview_mental            4398 non-null object\n",
      "reveal_disorder             529 non-null object\n",
      "reveal_neg_impact           529 non-null object\n",
      "neg_consequences            2693 non-null object\n",
      "career_damage               1638 non-null object\n",
      "wellness_program            3869 non-null object\n",
      "shared_resources            3869 non-null object\n",
      "mental_importance           1677 non-null float64\n",
      "physical_importance         1677 non-null float64\n",
      "remote_work                 2693 non-null object\n",
      "dtypes: float64(4), object(26)\n",
      "memory usage: 1.0+ MB\n"
     ]
    }
   ],
   "source": [
    "# check types and some other informmation about the data\n",
    "df.info()"
   ]
  },
  {
   "cell_type": "code",
   "execution_count": 265,
   "metadata": {},
   "outputs": [
    {
     "data": {
      "text/plain": [
       "self_employed                 18\n",
       "affected_productivity       3869\n",
       "care_about_mental_health    1992\n",
       "family_history                 0\n",
       "no_employees                 529\n",
       "IT_related_job              2672\n",
       "tech_industry_support       2695\n",
       "race                        3346\n",
       "disorders                   2400\n",
       "age                            2\n",
       "gender                        26\n",
       "country                        2\n",
       "privacy                       66\n",
       "treated                        0\n",
       "work_interfere               264\n",
       "care_coverage                  0\n",
       "talk_to_coworkers             66\n",
       "talk_to_supervisors           66\n",
       "tech_organization            315\n",
       "interview_physical             0\n",
       "interview_mental               0\n",
       "reveal_disorder             3869\n",
       "reveal_neg_impact           3869\n",
       "neg_consequences            1705\n",
       "career_damage               2760\n",
       "wellness_program             529\n",
       "shared_resources             529\n",
       "mental_importance           2721\n",
       "physical_importance         2721\n",
       "remote_work                 1705\n",
       "dtype: int64"
      ]
     },
     "execution_count": 265,
     "metadata": {},
     "output_type": "execute_result"
    }
   ],
   "source": [
    "# check for null values\n",
    "df.isnull().sum()"
   ]
  },
  {
   "cell_type": "markdown",
   "metadata": {},
   "source": [
    "## 1- Cleaning Dataset\n",
    "\n",
    "### a - Dealing with null values\n",
    "\n",
    "We can see that there are a lot of null values in some columns and a few in others, so I decided to drop the columns that are more than half of their values are null, fill some other columns with their most frequent value, and then use dropna() to remove any row with null values."
   ]
  },
  {
   "cell_type": "code",
   "execution_count": 266,
   "metadata": {},
   "outputs": [],
   "source": [
    "# Drop columns that more than half of their values are null\n",
    "df = df.drop(['IT_related_job', 'care_about_mental_health', 'physical_importance', 'mental_importance', 'career_damage', 'reveal_disorder', 'reveal_neg_impact', 'disorders', 'race', 'tech_industry_support', 'affected_productivity'], axis=1)"
   ]
  },
  {
   "cell_type": "code",
   "execution_count": 267,
   "metadata": {},
   "outputs": [
    {
     "data": {
      "text/plain": [
       "self_employed            18\n",
       "family_history            0\n",
       "no_employees            529\n",
       "age                       2\n",
       "gender                   26\n",
       "country                   2\n",
       "privacy                  66\n",
       "treated                   0\n",
       "work_interfere          264\n",
       "care_coverage             0\n",
       "talk_to_coworkers        66\n",
       "talk_to_supervisors      66\n",
       "tech_organization       315\n",
       "interview_physical        0\n",
       "interview_mental          0\n",
       "neg_consequences       1705\n",
       "wellness_program        529\n",
       "shared_resources        529\n",
       "remote_work            1705\n",
       "dtype: int64"
      ]
     },
     "execution_count": 267,
     "metadata": {},
     "output_type": "execute_result"
    }
   ],
   "source": [
    "# Check null values after dropping columns\n",
    "df.isnull().sum()"
   ]
  },
  {
   "cell_type": "code",
   "execution_count": 268,
   "metadata": {},
   "outputs": [],
   "source": [
    "# Fill some columns with their most frequest value\n",
    "df['no_employees'] = df['no_employees'].fillna(df['no_employees'].mode().iloc[0])\n",
    "df['gender'] = df['gender'].fillna(df['gender'].mode().iloc[0])\n",
    "df['privacy'] = df['privacy'].fillna(df['privacy'].mode().iloc[0])\n",
    "df['work_interfere'] = df['work_interfere'].fillna(df['work_interfere'].mode().iloc[0])\n",
    "df['tech_organization'] = df['tech_organization'].fillna(df['tech_organization'].mode().iloc[0])\n",
    "df['talk_to_coworkers'] = df['talk_to_coworkers'].fillna(df['talk_to_coworkers'].mode().iloc[0])\n",
    "df['talk_to_supervisors'] = df['talk_to_supervisors'].fillna(df['talk_to_supervisors'].mode().iloc[0])\n",
    "df['wellness_program'] = df['wellness_program'].fillna(df['wellness_program'].mode().iloc[0])\n",
    "df['shared_resources'] = df['shared_resources'].fillna(df['shared_resources'].mode().iloc[0])"
   ]
  },
  {
   "cell_type": "code",
   "execution_count": 269,
   "metadata": {},
   "outputs": [
    {
     "data": {
      "text/plain": [
       "self_employed            18\n",
       "family_history            0\n",
       "no_employees              0\n",
       "age                       2\n",
       "gender                    0\n",
       "country                   2\n",
       "privacy                   0\n",
       "treated                   0\n",
       "work_interfere            0\n",
       "care_coverage             0\n",
       "talk_to_coworkers         0\n",
       "talk_to_supervisors       0\n",
       "tech_organization         0\n",
       "interview_physical        0\n",
       "interview_mental          0\n",
       "neg_consequences       1705\n",
       "wellness_program          0\n",
       "shared_resources          0\n",
       "remote_work            1705\n",
       "dtype: int64"
      ]
     },
     "execution_count": 269,
     "metadata": {},
     "output_type": "execute_result"
    }
   ],
   "source": [
    "# Check null values after filling\n",
    "df.isnull().sum()"
   ]
  },
  {
   "cell_type": "code",
   "execution_count": 270,
   "metadata": {},
   "outputs": [],
   "source": [
    "# Drop rows that have null values\n",
    "df.dropna(axis=0, inplace=True)"
   ]
  },
  {
   "cell_type": "code",
   "execution_count": 271,
   "metadata": {},
   "outputs": [
    {
     "data": {
      "text/plain": [
       "self_employed          0\n",
       "family_history         0\n",
       "no_employees           0\n",
       "age                    0\n",
       "gender                 0\n",
       "country                0\n",
       "privacy                0\n",
       "treated                0\n",
       "work_interfere         0\n",
       "care_coverage          0\n",
       "talk_to_coworkers      0\n",
       "talk_to_supervisors    0\n",
       "tech_organization      0\n",
       "interview_physical     0\n",
       "interview_mental       0\n",
       "neg_consequences       0\n",
       "wellness_program       0\n",
       "shared_resources       0\n",
       "remote_work            0\n",
       "dtype: int64"
      ]
     },
     "execution_count": 271,
     "metadata": {},
     "output_type": "execute_result"
    }
   ],
   "source": [
    "# Check null values after dropping rows\n",
    "df.isnull().sum()"
   ]
  },
  {
   "cell_type": "code",
   "execution_count": 272,
   "metadata": {},
   "outputs": [
    {
     "data": {
      "text/html": [
       "<div>\n",
       "<style scoped>\n",
       "    .dataframe tbody tr th:only-of-type {\n",
       "        vertical-align: middle;\n",
       "    }\n",
       "\n",
       "    .dataframe tbody tr th {\n",
       "        vertical-align: top;\n",
       "    }\n",
       "\n",
       "    .dataframe thead th {\n",
       "        text-align: right;\n",
       "    }\n",
       "</style>\n",
       "<table border=\"1\" class=\"dataframe\">\n",
       "  <thead>\n",
       "    <tr style=\"text-align: right;\">\n",
       "      <th></th>\n",
       "      <th>self_employed</th>\n",
       "      <th>family_history</th>\n",
       "      <th>no_employees</th>\n",
       "      <th>age</th>\n",
       "      <th>gender</th>\n",
       "      <th>country</th>\n",
       "      <th>privacy</th>\n",
       "      <th>treated</th>\n",
       "      <th>work_interfere</th>\n",
       "      <th>care_coverage</th>\n",
       "      <th>talk_to_coworkers</th>\n",
       "      <th>talk_to_supervisors</th>\n",
       "      <th>tech_organization</th>\n",
       "      <th>interview_physical</th>\n",
       "      <th>interview_mental</th>\n",
       "      <th>neg_consequences</th>\n",
       "      <th>wellness_program</th>\n",
       "      <th>shared_resources</th>\n",
       "      <th>remote_work</th>\n",
       "    </tr>\n",
       "  </thead>\n",
       "  <tbody>\n",
       "    <tr>\n",
       "      <th>18</th>\n",
       "      <td>Yes</td>\n",
       "      <td>Yes</td>\n",
       "      <td>1-5</td>\n",
       "      <td>46.0</td>\n",
       "      <td>male</td>\n",
       "      <td>United States</td>\n",
       "      <td>Yes</td>\n",
       "      <td>No</td>\n",
       "      <td>Sometimes</td>\n",
       "      <td>Not sure</td>\n",
       "      <td>Yes</td>\n",
       "      <td>Yes</td>\n",
       "      <td>Yes</td>\n",
       "      <td>Yes</td>\n",
       "      <td>No</td>\n",
       "      <td>No</td>\n",
       "      <td>Yes</td>\n",
       "      <td>Don't know</td>\n",
       "      <td>Yes</td>\n",
       "    </tr>\n",
       "    <tr>\n",
       "      <th>19</th>\n",
       "      <td>Yes</td>\n",
       "      <td>Yes</td>\n",
       "      <td>6-25</td>\n",
       "      <td>36.0</td>\n",
       "      <td>Male</td>\n",
       "      <td>France</td>\n",
       "      <td>Yes</td>\n",
       "      <td>No</td>\n",
       "      <td>Sometimes</td>\n",
       "      <td>No</td>\n",
       "      <td>Some of them</td>\n",
       "      <td>Some of them</td>\n",
       "      <td>Yes</td>\n",
       "      <td>Maybe</td>\n",
       "      <td>Maybe</td>\n",
       "      <td>No</td>\n",
       "      <td>Yes</td>\n",
       "      <td>No</td>\n",
       "      <td>Yes</td>\n",
       "    </tr>\n",
       "    <tr>\n",
       "      <th>20</th>\n",
       "      <td>No</td>\n",
       "      <td>Yes</td>\n",
       "      <td>100-500</td>\n",
       "      <td>29.0</td>\n",
       "      <td>Male</td>\n",
       "      <td>United States</td>\n",
       "      <td>No</td>\n",
       "      <td>Yes</td>\n",
       "      <td>Sometimes</td>\n",
       "      <td>Yes</td>\n",
       "      <td>Some of them</td>\n",
       "      <td>Some of them</td>\n",
       "      <td>Yes</td>\n",
       "      <td>No</td>\n",
       "      <td>No</td>\n",
       "      <td>Maybe</td>\n",
       "      <td>No</td>\n",
       "      <td>No</td>\n",
       "      <td>No</td>\n",
       "    </tr>\n",
       "    <tr>\n",
       "      <th>21</th>\n",
       "      <td>Yes</td>\n",
       "      <td>No</td>\n",
       "      <td>1-5</td>\n",
       "      <td>31.0</td>\n",
       "      <td>male</td>\n",
       "      <td>United States</td>\n",
       "      <td>Yes</td>\n",
       "      <td>No</td>\n",
       "      <td>Never</td>\n",
       "      <td>No</td>\n",
       "      <td>Some of them</td>\n",
       "      <td>Some of them</td>\n",
       "      <td>Yes</td>\n",
       "      <td>Maybe</td>\n",
       "      <td>No</td>\n",
       "      <td>No</td>\n",
       "      <td>No</td>\n",
       "      <td>No</td>\n",
       "      <td>Yes</td>\n",
       "    </tr>\n",
       "    <tr>\n",
       "      <th>22</th>\n",
       "      <td>No</td>\n",
       "      <td>No</td>\n",
       "      <td>26-100</td>\n",
       "      <td>46.0</td>\n",
       "      <td>Male</td>\n",
       "      <td>United States</td>\n",
       "      <td>Don't know</td>\n",
       "      <td>Yes</td>\n",
       "      <td>Often</td>\n",
       "      <td>Yes</td>\n",
       "      <td>Some of them</td>\n",
       "      <td>Yes</td>\n",
       "      <td>Yes</td>\n",
       "      <td>Maybe</td>\n",
       "      <td>No</td>\n",
       "      <td>Maybe</td>\n",
       "      <td>No</td>\n",
       "      <td>No</td>\n",
       "      <td>Yes</td>\n",
       "    </tr>\n",
       "  </tbody>\n",
       "</table>\n",
       "</div>"
      ],
      "text/plain": [
       "   self_employed family_history no_employees   age gender        country  \\\n",
       "18           Yes            Yes          1-5  46.0   male  United States   \n",
       "19           Yes            Yes         6-25  36.0   Male         France   \n",
       "20            No            Yes      100-500  29.0   Male  United States   \n",
       "21           Yes             No          1-5  31.0   male  United States   \n",
       "22            No             No       26-100  46.0   Male  United States   \n",
       "\n",
       "       privacy treated work_interfere care_coverage talk_to_coworkers  \\\n",
       "18         Yes      No      Sometimes      Not sure               Yes   \n",
       "19         Yes      No      Sometimes            No      Some of them   \n",
       "20          No     Yes      Sometimes           Yes      Some of them   \n",
       "21         Yes      No          Never            No      Some of them   \n",
       "22  Don't know     Yes          Often           Yes      Some of them   \n",
       "\n",
       "   talk_to_supervisors tech_organization interview_physical interview_mental  \\\n",
       "18                 Yes               Yes                Yes               No   \n",
       "19        Some of them               Yes              Maybe            Maybe   \n",
       "20        Some of them               Yes                 No               No   \n",
       "21        Some of them               Yes              Maybe               No   \n",
       "22                 Yes               Yes              Maybe               No   \n",
       "\n",
       "   neg_consequences wellness_program shared_resources remote_work  \n",
       "18               No              Yes       Don't know         Yes  \n",
       "19               No              Yes               No         Yes  \n",
       "20            Maybe               No               No          No  \n",
       "21               No               No               No         Yes  \n",
       "22            Maybe               No               No         Yes  "
      ]
     },
     "execution_count": 272,
     "metadata": {},
     "output_type": "execute_result"
    }
   ],
   "source": [
    "# Let's take a look at the data after removing null values\n",
    "df.head()"
   ]
  },
  {
   "cell_type": "markdown",
   "metadata": {},
   "source": [
    "### b - Dealing with different values that indicate the same answer\n",
    "\n",
    "Now that our dataset is clean, let us rearrange and organize the values that indicates the same answer (e.g. 'No' and 'Never' will be 'No', 'male', 'Male' and 'M' will be 'm') to have a better view and understanding when we visualise our data."
   ]
  },
  {
   "cell_type": "code",
   "execution_count": 273,
   "metadata": {},
   "outputs": [],
   "source": [
    "# Create an answer dictionary to map different answers to common meaning\n",
    "answers_dict = {\n",
    "    'Yes': 'Yes',\n",
    "    'Yes, always': 'Yes',\n",
    "    'No': 'No', \n",
    "    'Sometimes': 'Sometimes',\n",
    "    'Never': 'No',\n",
    "    'Always': 'Yes',\n",
    "    '1': 'Yes', \n",
    "    '0': 'No',\n",
    "    '1.0': 'Yes', \n",
    "    '0.0': 'No',\n",
    "    'Don\\'t know': 'I do not know',\n",
    "    'I don\\'t know': 'I do not know',\n",
    "    'Maybe': 'Maybe',\n",
    "    'None of them': 'No',\n",
    "    'Some of them': 'Yes',\n",
    "    'Yes, they do': 'Yes',\n",
    "    'Yes, all of them': 'Yes',\n",
    "    'Yes, I think they would': 'Yes',\n",
    "    'No, I don\\'t think they would': 'No',\n",
    "    'No, they do not': 'No',\n",
    "    'Yes, at all of my previous employers': 'Yes',\n",
    "    'Some of them': 'Sometimes',\n",
    "    'Some of my previous employers': 'Sometimes',\n",
    "    'Some of my previous supervisors': 'Sometimes',\n",
    "    'No, at none of my previous employers': 'No',\n",
    "    'N/A (not currently aware)': 'No',\n",
    "    'I was aware of some': 'Yes',\n",
    "    'I am not sure': 'No',\n",
    "    'Yes, I was aware of all of them': 'Yes',\n",
    "    'No, I only became aware later': 'No',\n",
    "    'Not sure': 'No',\n",
    "    'Not eligible for coverage / N/A': 'No',  \n",
    "}"
   ]
  },
  {
   "cell_type": "code",
   "execution_count": 274,
   "metadata": {},
   "outputs": [
    {
     "data": {
      "text/plain": [
       "array(['Yes', 'No', '0', '1'], dtype=object)"
      ]
     },
     "execution_count": 274,
     "metadata": {},
     "output_type": "execute_result"
    }
   ],
   "source": [
    "# Let's see how this will work: \n",
    "# First: see the unique values for self_employed column\n",
    "# Values Yes and 1 both indicate Yes, same with No and 0.\n",
    "df['self_employed'].unique()"
   ]
  },
  {
   "cell_type": "code",
   "execution_count": 275,
   "metadata": {},
   "outputs": [],
   "source": [
    "# Map the values in the column with our created dictionary\n",
    "df['self_employed'] = df['self_employed'].map(answers_dict)"
   ]
  },
  {
   "cell_type": "code",
   "execution_count": 276,
   "metadata": {},
   "outputs": [
    {
     "data": {
      "text/plain": [
       "array(['Yes', 'No'], dtype=object)"
      ]
     },
     "execution_count": 276,
     "metadata": {},
     "output_type": "execute_result"
    }
   ],
   "source": [
    "# Now check the unique values again to see if we have organized answers\n",
    "df['self_employed'].unique()"
   ]
  },
  {
   "cell_type": "code",
   "execution_count": 277,
   "metadata": {},
   "outputs": [],
   "source": [
    "# let's apply this mapping to all columns that need to organize answers\n",
    "df['privacy'] = df['privacy'].map(answers_dict)\n",
    "df['care_coverage'] = df['care_coverage'].map(answers_dict)\n",
    "df['talk_to_coworkers'] = df['talk_to_coworkers'].map(answers_dict)\n",
    "df['talk_to_supervisors'] = df['talk_to_supervisors'].map(answers_dict)\n",
    "df['tech_organization'] = df['tech_organization'].map(answers_dict)\n",
    "df['neg_consequences'] = df['neg_consequences'].map(answers_dict)\n",
    "df['wellness_program'] = df['wellness_program'].map(answers_dict)\n",
    "df['shared_resources'] = df['shared_resources'].map(answers_dict)\n",
    "df['remote_work'] = df['remote_work'].map(answers_dict)\n",
    "df['family_history'] = df['family_history'].map(answers_dict)"
   ]
  },
  {
   "cell_type": "code",
   "execution_count": 278,
   "metadata": {},
   "outputs": [
    {
     "data": {
      "text/plain": [
       "array(['male', 'Male', 'Female', 'female', 'M', 'm', 'Male-ish', 'maile',\n",
       "       'Trans-female', 'Cis Female', 'F', 'something kinda male?',\n",
       "       'Cis Male', 'Woman', 'f', 'Mal', 'Male (CIS)', 'queer/she/they',\n",
       "       'non-binary', 'Femake', 'woman', 'Make', 'Nah', 'All', 'Enby',\n",
       "       'fluid', 'Genderqueer', 'Female ', 'Androgyne', 'Agender',\n",
       "       'cis-female/femme', 'Guy (-ish) ^_^', 'male leaning androgynous',\n",
       "       'Male ', 'Man', 'Trans woman', 'msle', 'Neuter', 'Female (trans)',\n",
       "       'queer', 'Female (cis)', 'Mail', 'cis male', 'A little about you',\n",
       "       'Malr', 'p', 'femail', 'Cis Man',\n",
       "       'ostensibly male, unsure what that really means',\n",
       "       'I identify as female.', 'female ', 'Bigender',\n",
       "       'Female assigned at birth ', 'man', 'fm', 'Cis female ',\n",
       "       'Transitioned, M2F', 'Genderfluid (born female)',\n",
       "       'Other/Transfeminine', 'Female or Multi-Gender Femme',\n",
       "       'female/woman', 'Cis male', 'Male.', 'Androgynous',\n",
       "       'male 9:1 female, roughly', 'Male (cis)', 'Other', 'nb masculine',\n",
       "       'Cisgender Female', 'Sex is male', 'none of your business',\n",
       "       'genderqueer', 'Human', 'Genderfluid', 'genderqueer woman', 'mtf',\n",
       "       'Queer', 'Dude', 'Fluid',\n",
       "       \"I'm a man why didn't you make this a drop down question. You should of asked sex? And I would of answered yes please. Seriously how much text can this take? \",\n",
       "       'mail', 'M|', 'Male/genderqueer', 'fem', 'Nonbinary', 'male ',\n",
       "       'human', 'Female (props for making this a freeform field, though)',\n",
       "       ' Female', 'Unicorn', 'Male (trans, FtM)', 'Cis-woman', 'cisdude',\n",
       "       'Genderflux demi-girl', 'female-bodied; no feelings about gender',\n",
       "       'cis man', 'AFAB', 'Transgender woman', 'MALE'], dtype=object)"
      ]
     },
     "execution_count": 278,
     "metadata": {},
     "output_type": "execute_result"
    }
   ],
   "source": [
    "# Now, gender needs some special handilation regarding answers. \n",
    "# Because its field in the surveys was accepting any inputs from the user we can see that we have different values\n",
    "df['gender'].unique()"
   ]
  },
  {
   "cell_type": "code",
   "execution_count": 279,
   "metadata": {},
   "outputs": [],
   "source": [
    "# let's fix this values by first make all letters lowercase\n",
    "df['gender'] = df['gender'].apply(lambda x: x.lower())"
   ]
  },
  {
   "cell_type": "code",
   "execution_count": 280,
   "metadata": {},
   "outputs": [],
   "source": [
    "# then replace any string that has 'female', 'woman', or 'f' with 'f'\n",
    "# and replace any string that has 'male', 'man', or 'm' with 'm'\n",
    "# if the string did not fall under any condition; make it None\n",
    "df['gender'] = df['gender'].apply(lambda x: 'f' if 'female' in x or 'woman' in x or 'f' in x or 'femme' in x else ('m' if 'male' in x or 'man' in x or 'm' in x else None))"
   ]
  },
  {
   "cell_type": "code",
   "execution_count": 281,
   "metadata": {},
   "outputs": [
    {
     "data": {
      "text/plain": [
       "array(['m', 'f', None], dtype=object)"
      ]
     },
     "execution_count": 281,
     "metadata": {},
     "output_type": "execute_result"
    }
   ],
   "source": [
    "# Now we will have two values 'm' for Male and 'f' for Female.\n",
    "df['gender'].unique()"
   ]
  },
  {
   "cell_type": "code",
   "execution_count": 282,
   "metadata": {},
   "outputs": [],
   "source": [
    "# Because some values didn't match male and female conditions we had some null values again\n",
    "# Let's drop them\n",
    "df.dropna(axis=0, inplace=True)"
   ]
  },
  {
   "cell_type": "markdown",
   "metadata": {},
   "source": [
    "For the our target variable (whether the employee treated from a mental issue or not), we need to have two values only: Yes and No. "
   ]
  },
  {
   "cell_type": "code",
   "execution_count": 283,
   "metadata": {},
   "outputs": [
    {
     "data": {
      "text/plain": [
       "array(['No', 'Yes', 'Maybe'], dtype=object)"
      ]
     },
     "execution_count": 283,
     "metadata": {},
     "output_type": "execute_result"
    }
   ],
   "source": [
    "df['treated'].unique()"
   ]
  },
  {
   "cell_type": "code",
   "execution_count": 284,
   "metadata": {},
   "outputs": [],
   "source": [
    "df['treated'] = df['treated'].map({'Yes': 'Yes' ,'No': 'No', 'Maybe': 'No'})"
   ]
  },
  {
   "cell_type": "code",
   "execution_count": 285,
   "metadata": {},
   "outputs": [
    {
     "data": {
      "text/plain": [
       "No     55.446293\n",
       "Yes    44.553707\n",
       "Name: treated, dtype: float64"
      ]
     },
     "execution_count": 285,
     "metadata": {},
     "output_type": "execute_result"
    }
   ],
   "source": [
    "# Check the percentage of each value occuring in the column\n",
    "df['treated'].value_counts(normalize=True) * 100"
   ]
  },
  {
   "cell_type": "code",
   "execution_count": 286,
   "metadata": {},
   "outputs": [
    {
     "name": "stdout",
     "output_type": "stream",
     "text": [
      "<class 'pandas.core.frame.DataFrame'>\n",
      "Int64Index: 2644 entries, 18 to 2691\n",
      "Data columns (total 19 columns):\n",
      "self_employed          2644 non-null object\n",
      "family_history         2644 non-null object\n",
      "no_employees           2644 non-null object\n",
      "age                    2644 non-null float64\n",
      "gender                 2644 non-null object\n",
      "country                2644 non-null object\n",
      "privacy                2644 non-null object\n",
      "treated                2644 non-null object\n",
      "work_interfere         2644 non-null object\n",
      "care_coverage          2644 non-null object\n",
      "talk_to_coworkers      2644 non-null object\n",
      "talk_to_supervisors    2644 non-null object\n",
      "tech_organization      2644 non-null object\n",
      "interview_physical     2644 non-null object\n",
      "interview_mental       2644 non-null object\n",
      "neg_consequences       2644 non-null object\n",
      "wellness_program       2644 non-null object\n",
      "shared_resources       2644 non-null object\n",
      "remote_work            2644 non-null object\n",
      "dtypes: float64(1), object(18)\n",
      "memory usage: 413.1+ KB\n"
     ]
    }
   ],
   "source": [
    "df.info()"
   ]
  },
  {
   "cell_type": "code",
   "execution_count": 287,
   "metadata": {},
   "outputs": [
    {
     "data": {
      "text/html": [
       "<div>\n",
       "<style scoped>\n",
       "    .dataframe tbody tr th:only-of-type {\n",
       "        vertical-align: middle;\n",
       "    }\n",
       "\n",
       "    .dataframe tbody tr th {\n",
       "        vertical-align: top;\n",
       "    }\n",
       "\n",
       "    .dataframe thead th {\n",
       "        text-align: right;\n",
       "    }\n",
       "</style>\n",
       "<table border=\"1\" class=\"dataframe\">\n",
       "  <thead>\n",
       "    <tr style=\"text-align: right;\">\n",
       "      <th></th>\n",
       "      <th>age</th>\n",
       "    </tr>\n",
       "  </thead>\n",
       "  <tbody>\n",
       "    <tr>\n",
       "      <th>count</th>\n",
       "      <td>2644.000000</td>\n",
       "    </tr>\n",
       "    <tr>\n",
       "      <th>mean</th>\n",
       "      <td>32.673979</td>\n",
       "    </tr>\n",
       "    <tr>\n",
       "      <th>std</th>\n",
       "      <td>36.040194</td>\n",
       "    </tr>\n",
       "    <tr>\n",
       "      <th>min</th>\n",
       "      <td>-1726.000000</td>\n",
       "    </tr>\n",
       "    <tr>\n",
       "      <th>25%</th>\n",
       "      <td>28.000000</td>\n",
       "    </tr>\n",
       "    <tr>\n",
       "      <th>50%</th>\n",
       "      <td>32.000000</td>\n",
       "    </tr>\n",
       "    <tr>\n",
       "      <th>75%</th>\n",
       "      <td>37.250000</td>\n",
       "    </tr>\n",
       "    <tr>\n",
       "      <th>max</th>\n",
       "      <td>329.000000</td>\n",
       "    </tr>\n",
       "  </tbody>\n",
       "</table>\n",
       "</div>"
      ],
      "text/plain": [
       "               age\n",
       "count  2644.000000\n",
       "mean     32.673979\n",
       "std      36.040194\n",
       "min   -1726.000000\n",
       "25%      28.000000\n",
       "50%      32.000000\n",
       "75%      37.250000\n",
       "max     329.000000"
      ]
     },
     "execution_count": 287,
     "metadata": {},
     "output_type": "execute_result"
    }
   ],
   "source": [
    "# let's see describe for our dataset. We only have one column (age) with numbers\n",
    "# We can see that there's unusual minimum and maximum values\n",
    "# Let's fix this by taking record where 17 < age < 100 \n",
    "df.describe()"
   ]
  },
  {
   "cell_type": "code",
   "execution_count": 288,
   "metadata": {},
   "outputs": [],
   "source": [
    "# get records with age between 17 and 99\n",
    "df = df[(17 < df['age']) & (df['age'] < 99)]"
   ]
  },
  {
   "cell_type": "code",
   "execution_count": 289,
   "metadata": {},
   "outputs": [],
   "source": [
    "# convert age to integers\n",
    "df['age'] = df['age'].astype(int)"
   ]
  },
  {
   "cell_type": "code",
   "execution_count": 290,
   "metadata": {},
   "outputs": [
    {
     "data": {
      "text/html": [
       "<div>\n",
       "<style scoped>\n",
       "    .dataframe tbody tr th:only-of-type {\n",
       "        vertical-align: middle;\n",
       "    }\n",
       "\n",
       "    .dataframe tbody tr th {\n",
       "        vertical-align: top;\n",
       "    }\n",
       "\n",
       "    .dataframe thead th {\n",
       "        text-align: right;\n",
       "    }\n",
       "</style>\n",
       "<table border=\"1\" class=\"dataframe\">\n",
       "  <thead>\n",
       "    <tr style=\"text-align: right;\">\n",
       "      <th></th>\n",
       "      <th>age</th>\n",
       "    </tr>\n",
       "  </thead>\n",
       "  <tbody>\n",
       "    <tr>\n",
       "      <th>count</th>\n",
       "      <td>2635.000000</td>\n",
       "    </tr>\n",
       "    <tr>\n",
       "      <th>mean</th>\n",
       "      <td>33.184820</td>\n",
       "    </tr>\n",
       "    <tr>\n",
       "      <th>std</th>\n",
       "      <td>7.812898</td>\n",
       "    </tr>\n",
       "    <tr>\n",
       "      <th>min</th>\n",
       "      <td>18.000000</td>\n",
       "    </tr>\n",
       "    <tr>\n",
       "      <th>25%</th>\n",
       "      <td>28.000000</td>\n",
       "    </tr>\n",
       "    <tr>\n",
       "      <th>50%</th>\n",
       "      <td>32.000000</td>\n",
       "    </tr>\n",
       "    <tr>\n",
       "      <th>75%</th>\n",
       "      <td>37.500000</td>\n",
       "    </tr>\n",
       "    <tr>\n",
       "      <th>max</th>\n",
       "      <td>74.000000</td>\n",
       "    </tr>\n",
       "  </tbody>\n",
       "</table>\n",
       "</div>"
      ],
      "text/plain": [
       "               age\n",
       "count  2635.000000\n",
       "mean     33.184820\n",
       "std       7.812898\n",
       "min      18.000000\n",
       "25%      28.000000\n",
       "50%      32.000000\n",
       "75%      37.500000\n",
       "max      74.000000"
      ]
     },
     "execution_count": 290,
     "metadata": {},
     "output_type": "execute_result"
    }
   ],
   "source": [
    "df.describe()"
   ]
  },
  {
   "cell_type": "code",
   "execution_count": 291,
   "metadata": {},
   "outputs": [
    {
     "name": "stdout",
     "output_type": "stream",
     "text": [
      "<class 'pandas.core.frame.DataFrame'>\n",
      "Int64Index: 2635 entries, 18 to 2691\n",
      "Data columns (total 19 columns):\n",
      "self_employed          2635 non-null object\n",
      "family_history         2635 non-null object\n",
      "no_employees           2635 non-null object\n",
      "age                    2635 non-null int32\n",
      "gender                 2635 non-null object\n",
      "country                2635 non-null object\n",
      "privacy                2635 non-null object\n",
      "treated                2635 non-null object\n",
      "work_interfere         2635 non-null object\n",
      "care_coverage          2635 non-null object\n",
      "talk_to_coworkers      2635 non-null object\n",
      "talk_to_supervisors    2635 non-null object\n",
      "tech_organization      2635 non-null object\n",
      "interview_physical     2635 non-null object\n",
      "interview_mental       2635 non-null object\n",
      "neg_consequences       2635 non-null object\n",
      "wellness_program       2635 non-null object\n",
      "shared_resources       2635 non-null object\n",
      "remote_work            2635 non-null object\n",
      "dtypes: int32(1), object(18)\n",
      "memory usage: 401.4+ KB\n"
     ]
    }
   ],
   "source": [
    "df.info()"
   ]
  },
  {
   "cell_type": "markdown",
   "metadata": {},
   "source": [
    "## 2 - EDA and Visualizing Dataset"
   ]
  },
  {
   "cell_type": "code",
   "execution_count": 303,
   "metadata": {},
   "outputs": [],
   "source": [
    "# Set the pallete of seaborn\n",
    "sns.set_palette('Set2')"
   ]
  },
  {
   "cell_type": "code",
   "execution_count": 251,
   "metadata": {},
   "outputs": [
    {
     "data": {
      "image/png": "[encoded data removed]",
      "text/plain": [
       "<Figure size 720x432 with 1 Axes>"
      ]
     },
     "metadata": {
      "needs_background": "light"
     },
     "output_type": "display_data"
    }
   ],
   "source": [
    "# Plot a distribution of age of respondenats\n",
    "plt.figure(figsize=[10,6])\n",
    "sns.distplot(df['age']);"
   ]
  },
  {
   "cell_type": "code",
   "execution_count": 252,
   "metadata": {},
   "outputs": [
    {
     "data": {
      "image/png": "[encoded data removed]",
      "text/plain": [
       "<Figure size 720x432 with 1 Axes>"
      ]
     },
     "metadata": {
      "needs_background": "light"
     },
     "output_type": "display_data"
    }
   ],
   "source": [
    "# Company sizes\n",
    "plt.figure(figsize=[10,6])\n",
    "sns.countplot(x=df['no_employees'], hue=df['tech_organization'], \n",
    "              order=['1-5', '6-25', '26-100', '100-500', '500-1000', 'More than 1000'])\n",
    "plt.xlabel('Company Size')\n",
    "plt.legend(['Tech company', 'Not a tech company']);"
   ]
  },
  {
   "cell_type": "code",
   "execution_count": 253,
   "metadata": {},
   "outputs": [
    {
     "data": {
      "image/png": "[encoded data removed]",
      "text/plain": [
       "<Figure size 720x432 with 1 Axes>"
      ]
     },
     "metadata": {},
     "output_type": "display_data"
    }
   ],
   "source": [
    "# People working in tech according to their gender\n",
    "plt.figure(figsize=[10,6])\n",
    "tech_people = df[df['tech_organization'] == 'Yes']['gender'].count()\n",
    "males = df[(df['tech_organization'] == 'Yes') & (df['gender'] == 'm')]['gender'].count()\n",
    "females = df[(df['tech_organization'] == 'Yes') & (df['gender'] == 'f')]['gender'].count()\n",
    "\n",
    "labels = 'Male', 'Female'\n",
    "sizes = [males / tech_people, females / tech_people]\n",
    "\n",
    "plt.pie(sizes, labels=labels, autopct='%.2f%%', shadow=False, startangle=140)\n",
    "plt.title('People working in tech according to their gender');"
   ]
  },
  {
   "cell_type": "code",
   "execution_count": 257,
   "metadata": {},
   "outputs": [
    {
     "data": {
      "image/png": "[encoded data removed]",
      "text/plain": [
       "<Figure size 720x432 with 1 Axes>"
      ]
     },
     "metadata": {
      "needs_background": "light"
     },
     "output_type": "display_data"
    }
   ],
   "source": [
    "# Do people work on-site or remotely?\n",
    "plt.figure(figsize=[10,6])\n",
    "sns.countplot(x = df['self_employed'], hue = df['remote_work']);\n",
    "plt.legend(loc='upper left')\n",
    "plt.xlabel('Self employed');"
   ]
  },
  {
   "cell_type": "code",
   "execution_count": 258,
   "metadata": {},
   "outputs": [
    {
     "data": {
      "image/png": "[encoded data removed]",
      "text/plain": [
       "<Figure size 432x288 with 1 Axes>"
      ]
     },
     "metadata": {},
     "output_type": "display_data"
    }
   ],
   "source": [
    "# Have people working in tech been traeted from a mental issue?\n",
    "treated_techs = df[df['tech_organization'] == 'Yes']['treated'].count()\n",
    "no_treated = df[(df['tech_organization'] == 'Yes') & (df['treated'] == 'No')]['treated'].count()\n",
    "yes_treated = df[(df['tech_organization'] == 'Yes') & (df['treated'] == 'Yes')]['treated'].count()\n",
    "\n",
    "labels = 'No', 'Yes'\n",
    "sizes = [no_treated / treated_techs, yes_treated / treated_techs]\n",
    "\n",
    "plt.pie(sizes, labels=labels, autopct='%.2f%%', shadow=False, startangle=140)\n",
    "plt.title('Have people working in tech been traeted from a mental issue?');"
   ]
  },
  {
   "cell_type": "code",
   "execution_count": 302,
   "metadata": {},
   "outputs": [
    {
     "data": {
      "text/plain": [
       "<Figure size 1152x432 with 0 Axes>"
      ]
     },
     "metadata": {},
     "output_type": "display_data"
    },
    {
     "data": {
      "image/png": "[encoded data removed]",
      "text/plain": [
       "<Figure size 1440x432 with 2 Axes>"
      ]
     },
     "metadata": {},
     "output_type": "display_data"
    }
   ],
   "source": [
    "# Are people in tech talked / willing to talk about their mental health with their co-workers and supervisors?\n",
    "\n",
    "plt.figure(figsize = (16,6))\n",
    "fig, (ax1, ax2) = plt.subplots(1, 2)\n",
    "fig.set_figheight(6)\n",
    "fig.set_figwidth(20)\n",
    "plt.subplots_adjust(wspace = 0)\n",
    "fig.suptitle('Are people in tech talked / willing to talk about their mental health with their co-workers and supervisors?', fontsize = 25, y=1.08)\n",
    "\n",
    "# talking to supervisors\n",
    "s_talk = df[df['tech_organization'] == 'Yes']['talk_to_supervisors'].count()\n",
    "s_no_talk = df[(df['tech_organization'] == 'Yes') & (df['talk_to_supervisors'] == 'No')]['talk_to_supervisors'].count()\n",
    "s_yes_talk = df[(df['tech_organization'] == 'Yes') & (df['talk_to_supervisors'] == 'Yes')]['talk_to_supervisors'].count()\n",
    "s_sometimes_talk = df[(df['tech_organization'] == 'Yes') & (df['talk_to_supervisors'] == 'Sometimes')]['talk_to_supervisors'].count()\n",
    "s_dk_talk = df[(df['tech_organization'] == 'Yes') & (df['talk_to_supervisors'] == 'I do not know')]['talk_to_supervisors'].count()\n",
    "s_maybe_talk = df[(df['tech_organization'] == 'Yes') & (df['talk_to_supervisors'] == 'Maybe')]['talk_to_supervisors'].count()\n",
    "\n",
    "s_labels = 'Yes', 'Sometimes', 'No', 'I do not know', 'Maybe'\n",
    "s_sizes = [s_yes_talk / s_talk, s_sometimes_talk / s_talk, s_no_talk / s_talk, s_dk_talk / s_talk, s_maybe_talk / s_talk]\n",
    "\n",
    "# talking to coworkers\n",
    "c_talk = df[df['tech_organization'] == 'Yes']['talk_to_coworkers'].count()\n",
    "c_no_talk = df[(df['tech_organization'] == 'Yes') & (df['talk_to_coworkers'] == 'No')]['talk_to_coworkers'].count()\n",
    "c_yes_talk = df[(df['tech_organization'] == 'Yes') & (df['talk_to_coworkers'] == 'Yes')]['talk_to_coworkers'].count()\n",
    "c_sometimes_talk = df[(df['tech_organization'] == 'Yes') & (df['talk_to_coworkers'] == 'Sometimes')]['talk_to_coworkers'].count()\n",
    "c_maybe_talk = df[(df['tech_organization'] == 'Yes') & (df['talk_to_coworkers'] == 'Maybe')]['talk_to_coworkers'].count()\n",
    "\n",
    "c_labels = 'Yes', 'Sometimes', 'No', 'Maybe'\n",
    "c_sizes = [c_yes_talk / c_talk, c_sometimes_talk / c_talk, c_no_talk / c_talk, c_maybe_talk / c_talk]\n",
    "\n",
    "ax1.pie(s_sizes, labels=s_labels, autopct='%.2f%%', shadow=False);\n",
    "ax1.axis('equal')\n",
    "ax1.set_title('Talking to supervisors');\n",
    "\n",
    "ax2.pie(c_sizes, labels=c_labels, autopct='%.2f%%', shadow=False);\n",
    "ax2.axis('equal')\n",
    "ax2.set_title('Talking to co-workers');"
   ]
  },
  {
   "cell_type": "markdown",
   "metadata": {},
   "source": [
    "# Modelling"
   ]
  },
  {
   "cell_type": "code",
   "execution_count": 399,
   "metadata": {},
   "outputs": [],
   "source": [
    "# Import needed modules for modelling\n",
    "from sklearn.model_selection import train_test_split\n",
    "from sklearn.ensemble import RandomForestClassifier\n",
    "from sklearn.linear_model import LogisticRegression\n",
    "from sklearn.metrics import classification_report,confusion_matrix"
   ]
  },
  {
   "cell_type": "code",
   "execution_count": 400,
   "metadata": {},
   "outputs": [
    {
     "data": {
      "text/html": [
       "<div>\n",
       "<style scoped>\n",
       "    .dataframe tbody tr th:only-of-type {\n",
       "        vertical-align: middle;\n",
       "    }\n",
       "\n",
       "    .dataframe tbody tr th {\n",
       "        vertical-align: top;\n",
       "    }\n",
       "\n",
       "    .dataframe thead th {\n",
       "        text-align: right;\n",
       "    }\n",
       "</style>\n",
       "<table border=\"1\" class=\"dataframe\">\n",
       "  <thead>\n",
       "    <tr style=\"text-align: right;\">\n",
       "      <th></th>\n",
       "      <th>self_employed</th>\n",
       "      <th>family_history</th>\n",
       "      <th>no_employees</th>\n",
       "      <th>age</th>\n",
       "      <th>gender</th>\n",
       "      <th>country</th>\n",
       "      <th>privacy</th>\n",
       "      <th>treated</th>\n",
       "      <th>work_interfere</th>\n",
       "      <th>care_coverage</th>\n",
       "      <th>talk_to_coworkers</th>\n",
       "      <th>talk_to_supervisors</th>\n",
       "      <th>tech_organization</th>\n",
       "      <th>interview_physical</th>\n",
       "      <th>interview_mental</th>\n",
       "      <th>neg_consequences</th>\n",
       "      <th>wellness_program</th>\n",
       "      <th>shared_resources</th>\n",
       "      <th>remote_work</th>\n",
       "    </tr>\n",
       "  </thead>\n",
       "  <tbody>\n",
       "    <tr>\n",
       "      <th>18</th>\n",
       "      <td>Yes</td>\n",
       "      <td>Yes</td>\n",
       "      <td>1-5</td>\n",
       "      <td>46</td>\n",
       "      <td>m</td>\n",
       "      <td>United States</td>\n",
       "      <td>Yes</td>\n",
       "      <td>No</td>\n",
       "      <td>Sometimes</td>\n",
       "      <td>No</td>\n",
       "      <td>Yes</td>\n",
       "      <td>Yes</td>\n",
       "      <td>Yes</td>\n",
       "      <td>Yes</td>\n",
       "      <td>No</td>\n",
       "      <td>No</td>\n",
       "      <td>Yes</td>\n",
       "      <td>I do not know</td>\n",
       "      <td>Yes</td>\n",
       "    </tr>\n",
       "    <tr>\n",
       "      <th>19</th>\n",
       "      <td>Yes</td>\n",
       "      <td>Yes</td>\n",
       "      <td>6-25</td>\n",
       "      <td>36</td>\n",
       "      <td>m</td>\n",
       "      <td>France</td>\n",
       "      <td>Yes</td>\n",
       "      <td>No</td>\n",
       "      <td>Sometimes</td>\n",
       "      <td>No</td>\n",
       "      <td>Sometimes</td>\n",
       "      <td>Sometimes</td>\n",
       "      <td>Yes</td>\n",
       "      <td>Maybe</td>\n",
       "      <td>Maybe</td>\n",
       "      <td>No</td>\n",
       "      <td>Yes</td>\n",
       "      <td>No</td>\n",
       "      <td>Yes</td>\n",
       "    </tr>\n",
       "    <tr>\n",
       "      <th>20</th>\n",
       "      <td>No</td>\n",
       "      <td>Yes</td>\n",
       "      <td>100-500</td>\n",
       "      <td>29</td>\n",
       "      <td>m</td>\n",
       "      <td>United States</td>\n",
       "      <td>No</td>\n",
       "      <td>Yes</td>\n",
       "      <td>Sometimes</td>\n",
       "      <td>Yes</td>\n",
       "      <td>Sometimes</td>\n",
       "      <td>Sometimes</td>\n",
       "      <td>Yes</td>\n",
       "      <td>No</td>\n",
       "      <td>No</td>\n",
       "      <td>Maybe</td>\n",
       "      <td>No</td>\n",
       "      <td>No</td>\n",
       "      <td>No</td>\n",
       "    </tr>\n",
       "    <tr>\n",
       "      <th>21</th>\n",
       "      <td>Yes</td>\n",
       "      <td>No</td>\n",
       "      <td>1-5</td>\n",
       "      <td>31</td>\n",
       "      <td>m</td>\n",
       "      <td>United States</td>\n",
       "      <td>Yes</td>\n",
       "      <td>No</td>\n",
       "      <td>Never</td>\n",
       "      <td>No</td>\n",
       "      <td>Sometimes</td>\n",
       "      <td>Sometimes</td>\n",
       "      <td>Yes</td>\n",
       "      <td>Maybe</td>\n",
       "      <td>No</td>\n",
       "      <td>No</td>\n",
       "      <td>No</td>\n",
       "      <td>No</td>\n",
       "      <td>Yes</td>\n",
       "    </tr>\n",
       "    <tr>\n",
       "      <th>22</th>\n",
       "      <td>No</td>\n",
       "      <td>No</td>\n",
       "      <td>26-100</td>\n",
       "      <td>46</td>\n",
       "      <td>m</td>\n",
       "      <td>United States</td>\n",
       "      <td>I do not know</td>\n",
       "      <td>Yes</td>\n",
       "      <td>Often</td>\n",
       "      <td>Yes</td>\n",
       "      <td>Sometimes</td>\n",
       "      <td>Yes</td>\n",
       "      <td>Yes</td>\n",
       "      <td>Maybe</td>\n",
       "      <td>No</td>\n",
       "      <td>Maybe</td>\n",
       "      <td>No</td>\n",
       "      <td>No</td>\n",
       "      <td>Yes</td>\n",
       "    </tr>\n",
       "  </tbody>\n",
       "</table>\n",
       "</div>"
      ],
      "text/plain": [
       "   self_employed family_history no_employees  age gender        country  \\\n",
       "18           Yes            Yes          1-5   46      m  United States   \n",
       "19           Yes            Yes         6-25   36      m         France   \n",
       "20            No            Yes      100-500   29      m  United States   \n",
       "21           Yes             No          1-5   31      m  United States   \n",
       "22            No             No       26-100   46      m  United States   \n",
       "\n",
       "          privacy treated work_interfere care_coverage talk_to_coworkers  \\\n",
       "18            Yes      No      Sometimes            No               Yes   \n",
       "19            Yes      No      Sometimes            No         Sometimes   \n",
       "20             No     Yes      Sometimes           Yes         Sometimes   \n",
       "21            Yes      No          Never            No         Sometimes   \n",
       "22  I do not know     Yes          Often           Yes         Sometimes   \n",
       "\n",
       "   talk_to_supervisors tech_organization interview_physical interview_mental  \\\n",
       "18                 Yes               Yes                Yes               No   \n",
       "19           Sometimes               Yes              Maybe            Maybe   \n",
       "20           Sometimes               Yes                 No               No   \n",
       "21           Sometimes               Yes              Maybe               No   \n",
       "22                 Yes               Yes              Maybe               No   \n",
       "\n",
       "   neg_consequences wellness_program shared_resources remote_work  \n",
       "18               No              Yes    I do not know         Yes  \n",
       "19               No              Yes               No         Yes  \n",
       "20            Maybe               No               No          No  \n",
       "21               No               No               No         Yes  \n",
       "22            Maybe               No               No         Yes  "
      ]
     },
     "execution_count": 400,
     "metadata": {},
     "output_type": "execute_result"
    }
   ],
   "source": [
    "# get a copy of our data\n",
    "df_copied = df.copy()\n",
    "df_copied.head()"
   ]
  },
  {
   "cell_type": "code",
   "execution_count": 401,
   "metadata": {},
   "outputs": [],
   "source": [
    "# Create an answer dictionary to map different answers to common meaning\n",
    "answers_dict_modelling = {\n",
    "    'Yes' : 1.0,\n",
    "    'No': 0.0, \n",
    "    'Sometimes': 0.5,\n",
    "    'I do not know': 0.2,\n",
    "    'Maybe': 0.3,\n",
    "}"
   ]
  },
  {
   "cell_type": "code",
   "execution_count": 402,
   "metadata": {},
   "outputs": [
    {
     "data": {
      "text/html": [
       "<div>\n",
       "<style scoped>\n",
       "    .dataframe tbody tr th:only-of-type {\n",
       "        vertical-align: middle;\n",
       "    }\n",
       "\n",
       "    .dataframe tbody tr th {\n",
       "        vertical-align: top;\n",
       "    }\n",
       "\n",
       "    .dataframe thead th {\n",
       "        text-align: right;\n",
       "    }\n",
       "</style>\n",
       "<table border=\"1\" class=\"dataframe\">\n",
       "  <thead>\n",
       "    <tr style=\"text-align: right;\">\n",
       "      <th></th>\n",
       "      <th>self_employed</th>\n",
       "      <th>family_history</th>\n",
       "      <th>no_employees</th>\n",
       "      <th>age</th>\n",
       "      <th>gender</th>\n",
       "      <th>country</th>\n",
       "      <th>privacy</th>\n",
       "      <th>treated</th>\n",
       "      <th>work_interfere</th>\n",
       "      <th>care_coverage</th>\n",
       "      <th>talk_to_coworkers</th>\n",
       "      <th>talk_to_supervisors</th>\n",
       "      <th>tech_organization</th>\n",
       "      <th>interview_physical</th>\n",
       "      <th>interview_mental</th>\n",
       "      <th>neg_consequences</th>\n",
       "      <th>wellness_program</th>\n",
       "      <th>shared_resources</th>\n",
       "      <th>remote_work</th>\n",
       "    </tr>\n",
       "  </thead>\n",
       "  <tbody>\n",
       "    <tr>\n",
       "      <th>18</th>\n",
       "      <td>1.0</td>\n",
       "      <td>1.0</td>\n",
       "      <td>1-5</td>\n",
       "      <td>46</td>\n",
       "      <td>m</td>\n",
       "      <td>United States</td>\n",
       "      <td>1.0</td>\n",
       "      <td>0.0</td>\n",
       "      <td>Sometimes</td>\n",
       "      <td>0.0</td>\n",
       "      <td>1.0</td>\n",
       "      <td>1.0</td>\n",
       "      <td>1.0</td>\n",
       "      <td>1.0</td>\n",
       "      <td>0.0</td>\n",
       "      <td>0.0</td>\n",
       "      <td>1.0</td>\n",
       "      <td>0.2</td>\n",
       "      <td>1.0</td>\n",
       "    </tr>\n",
       "    <tr>\n",
       "      <th>19</th>\n",
       "      <td>1.0</td>\n",
       "      <td>1.0</td>\n",
       "      <td>6-25</td>\n",
       "      <td>36</td>\n",
       "      <td>m</td>\n",
       "      <td>France</td>\n",
       "      <td>1.0</td>\n",
       "      <td>0.0</td>\n",
       "      <td>Sometimes</td>\n",
       "      <td>0.0</td>\n",
       "      <td>0.5</td>\n",
       "      <td>0.5</td>\n",
       "      <td>1.0</td>\n",
       "      <td>0.3</td>\n",
       "      <td>0.3</td>\n",
       "      <td>0.0</td>\n",
       "      <td>1.0</td>\n",
       "      <td>0.0</td>\n",
       "      <td>1.0</td>\n",
       "    </tr>\n",
       "    <tr>\n",
       "      <th>20</th>\n",
       "      <td>0.0</td>\n",
       "      <td>1.0</td>\n",
       "      <td>100-500</td>\n",
       "      <td>29</td>\n",
       "      <td>m</td>\n",
       "      <td>United States</td>\n",
       "      <td>0.0</td>\n",
       "      <td>1.0</td>\n",
       "      <td>Sometimes</td>\n",
       "      <td>1.0</td>\n",
       "      <td>0.5</td>\n",
       "      <td>0.5</td>\n",
       "      <td>1.0</td>\n",
       "      <td>0.0</td>\n",
       "      <td>0.0</td>\n",
       "      <td>0.3</td>\n",
       "      <td>0.0</td>\n",
       "      <td>0.0</td>\n",
       "      <td>0.0</td>\n",
       "    </tr>\n",
       "    <tr>\n",
       "      <th>21</th>\n",
       "      <td>1.0</td>\n",
       "      <td>0.0</td>\n",
       "      <td>1-5</td>\n",
       "      <td>31</td>\n",
       "      <td>m</td>\n",
       "      <td>United States</td>\n",
       "      <td>1.0</td>\n",
       "      <td>0.0</td>\n",
       "      <td>Never</td>\n",
       "      <td>0.0</td>\n",
       "      <td>0.5</td>\n",
       "      <td>0.5</td>\n",
       "      <td>1.0</td>\n",
       "      <td>0.3</td>\n",
       "      <td>0.0</td>\n",
       "      <td>0.0</td>\n",
       "      <td>0.0</td>\n",
       "      <td>0.0</td>\n",
       "      <td>1.0</td>\n",
       "    </tr>\n",
       "    <tr>\n",
       "      <th>22</th>\n",
       "      <td>0.0</td>\n",
       "      <td>0.0</td>\n",
       "      <td>26-100</td>\n",
       "      <td>46</td>\n",
       "      <td>m</td>\n",
       "      <td>United States</td>\n",
       "      <td>0.2</td>\n",
       "      <td>1.0</td>\n",
       "      <td>Often</td>\n",
       "      <td>1.0</td>\n",
       "      <td>0.5</td>\n",
       "      <td>1.0</td>\n",
       "      <td>1.0</td>\n",
       "      <td>0.3</td>\n",
       "      <td>0.0</td>\n",
       "      <td>0.3</td>\n",
       "      <td>0.0</td>\n",
       "      <td>0.0</td>\n",
       "      <td>1.0</td>\n",
       "    </tr>\n",
       "  </tbody>\n",
       "</table>\n",
       "</div>"
      ],
      "text/plain": [
       "    self_employed  family_history no_employees  age gender        country  \\\n",
       "18            1.0             1.0          1-5   46      m  United States   \n",
       "19            1.0             1.0         6-25   36      m         France   \n",
       "20            0.0             1.0      100-500   29      m  United States   \n",
       "21            1.0             0.0          1-5   31      m  United States   \n",
       "22            0.0             0.0       26-100   46      m  United States   \n",
       "\n",
       "    privacy  treated work_interfere  care_coverage  talk_to_coworkers  \\\n",
       "18      1.0      0.0      Sometimes            0.0                1.0   \n",
       "19      1.0      0.0      Sometimes            0.0                0.5   \n",
       "20      0.0      1.0      Sometimes            1.0                0.5   \n",
       "21      1.0      0.0          Never            0.0                0.5   \n",
       "22      0.2      1.0          Often            1.0                0.5   \n",
       "\n",
       "    talk_to_supervisors  tech_organization  interview_physical  \\\n",
       "18                  1.0                1.0                 1.0   \n",
       "19                  0.5                1.0                 0.3   \n",
       "20                  0.5                1.0                 0.0   \n",
       "21                  0.5                1.0                 0.3   \n",
       "22                  1.0                1.0                 0.3   \n",
       "\n",
       "    interview_mental  neg_consequences  wellness_program  shared_resources  \\\n",
       "18               0.0               0.0               1.0               0.2   \n",
       "19               0.3               0.0               1.0               0.0   \n",
       "20               0.0               0.3               0.0               0.0   \n",
       "21               0.0               0.0               0.0               0.0   \n",
       "22               0.0               0.3               0.0               0.0   \n",
       "\n",
       "    remote_work  \n",
       "18          1.0  \n",
       "19          1.0  \n",
       "20          0.0  \n",
       "21          1.0  \n",
       "22          1.0  "
      ]
     },
     "execution_count": 402,
     "metadata": {},
     "output_type": "execute_result"
    }
   ],
   "source": [
    "# for all columns that have common answers \n",
    "for col in df_copied.columns:\n",
    "    if col not in ['no_employees', 'age', 'gender', 'country', 'work_interfere']:\n",
    "        df_copied[col] = df_copied[col].map(answers_dict_modelling)\n",
    "\n",
    "df_copied.head()"
   ]
  },
  {
   "cell_type": "code",
   "execution_count": 403,
   "metadata": {},
   "outputs": [
    {
     "data": {
      "text/html": [
       "<div>\n",
       "<style scoped>\n",
       "    .dataframe tbody tr th:only-of-type {\n",
       "        vertical-align: middle;\n",
       "    }\n",
       "\n",
       "    .dataframe tbody tr th {\n",
       "        vertical-align: top;\n",
       "    }\n",
       "\n",
       "    .dataframe thead th {\n",
       "        text-align: right;\n",
       "    }\n",
       "</style>\n",
       "<table border=\"1\" class=\"dataframe\">\n",
       "  <thead>\n",
       "    <tr style=\"text-align: right;\">\n",
       "      <th></th>\n",
       "      <th>self_employed</th>\n",
       "      <th>family_history</th>\n",
       "      <th>age</th>\n",
       "      <th>country</th>\n",
       "      <th>privacy</th>\n",
       "      <th>treated</th>\n",
       "      <th>care_coverage</th>\n",
       "      <th>talk_to_coworkers</th>\n",
       "      <th>talk_to_supervisors</th>\n",
       "      <th>tech_organization</th>\n",
       "      <th>...</th>\n",
       "      <th>no_employees_100-500</th>\n",
       "      <th>no_employees_26-100</th>\n",
       "      <th>no_employees_500-1000</th>\n",
       "      <th>no_employees_6-25</th>\n",
       "      <th>no_employees_More than 1000</th>\n",
       "      <th>gender_m</th>\n",
       "      <th>work_interfere_Not applicable to me</th>\n",
       "      <th>work_interfere_Often</th>\n",
       "      <th>work_interfere_Rarely</th>\n",
       "      <th>work_interfere_Sometimes</th>\n",
       "    </tr>\n",
       "  </thead>\n",
       "  <tbody>\n",
       "    <tr>\n",
       "      <th>18</th>\n",
       "      <td>1.0</td>\n",
       "      <td>1.0</td>\n",
       "      <td>46</td>\n",
       "      <td>United States</td>\n",
       "      <td>1.0</td>\n",
       "      <td>0.0</td>\n",
       "      <td>0.0</td>\n",
       "      <td>1.0</td>\n",
       "      <td>1.0</td>\n",
       "      <td>1.0</td>\n",
       "      <td>...</td>\n",
       "      <td>0</td>\n",
       "      <td>0</td>\n",
       "      <td>0</td>\n",
       "      <td>0</td>\n",
       "      <td>0</td>\n",
       "      <td>1</td>\n",
       "      <td>0</td>\n",
       "      <td>0</td>\n",
       "      <td>0</td>\n",
       "      <td>1</td>\n",
       "    </tr>\n",
       "    <tr>\n",
       "      <th>19</th>\n",
       "      <td>1.0</td>\n",
       "      <td>1.0</td>\n",
       "      <td>36</td>\n",
       "      <td>France</td>\n",
       "      <td>1.0</td>\n",
       "      <td>0.0</td>\n",
       "      <td>0.0</td>\n",
       "      <td>0.5</td>\n",
       "      <td>0.5</td>\n",
       "      <td>1.0</td>\n",
       "      <td>...</td>\n",
       "      <td>0</td>\n",
       "      <td>0</td>\n",
       "      <td>0</td>\n",
       "      <td>1</td>\n",
       "      <td>0</td>\n",
       "      <td>1</td>\n",
       "      <td>0</td>\n",
       "      <td>0</td>\n",
       "      <td>0</td>\n",
       "      <td>1</td>\n",
       "    </tr>\n",
       "    <tr>\n",
       "      <th>20</th>\n",
       "      <td>0.0</td>\n",
       "      <td>1.0</td>\n",
       "      <td>29</td>\n",
       "      <td>United States</td>\n",
       "      <td>0.0</td>\n",
       "      <td>1.0</td>\n",
       "      <td>1.0</td>\n",
       "      <td>0.5</td>\n",
       "      <td>0.5</td>\n",
       "      <td>1.0</td>\n",
       "      <td>...</td>\n",
       "      <td>1</td>\n",
       "      <td>0</td>\n",
       "      <td>0</td>\n",
       "      <td>0</td>\n",
       "      <td>0</td>\n",
       "      <td>1</td>\n",
       "      <td>0</td>\n",
       "      <td>0</td>\n",
       "      <td>0</td>\n",
       "      <td>1</td>\n",
       "    </tr>\n",
       "    <tr>\n",
       "      <th>21</th>\n",
       "      <td>1.0</td>\n",
       "      <td>0.0</td>\n",
       "      <td>31</td>\n",
       "      <td>United States</td>\n",
       "      <td>1.0</td>\n",
       "      <td>0.0</td>\n",
       "      <td>0.0</td>\n",
       "      <td>0.5</td>\n",
       "      <td>0.5</td>\n",
       "      <td>1.0</td>\n",
       "      <td>...</td>\n",
       "      <td>0</td>\n",
       "      <td>0</td>\n",
       "      <td>0</td>\n",
       "      <td>0</td>\n",
       "      <td>0</td>\n",
       "      <td>1</td>\n",
       "      <td>0</td>\n",
       "      <td>0</td>\n",
       "      <td>0</td>\n",
       "      <td>0</td>\n",
       "    </tr>\n",
       "    <tr>\n",
       "      <th>22</th>\n",
       "      <td>0.0</td>\n",
       "      <td>0.0</td>\n",
       "      <td>46</td>\n",
       "      <td>United States</td>\n",
       "      <td>0.2</td>\n",
       "      <td>1.0</td>\n",
       "      <td>1.0</td>\n",
       "      <td>0.5</td>\n",
       "      <td>1.0</td>\n",
       "      <td>1.0</td>\n",
       "      <td>...</td>\n",
       "      <td>0</td>\n",
       "      <td>1</td>\n",
       "      <td>0</td>\n",
       "      <td>0</td>\n",
       "      <td>0</td>\n",
       "      <td>1</td>\n",
       "      <td>0</td>\n",
       "      <td>1</td>\n",
       "      <td>0</td>\n",
       "      <td>0</td>\n",
       "    </tr>\n",
       "  </tbody>\n",
       "</table>\n",
       "<p>5 rows × 26 columns</p>\n",
       "</div>"
      ],
      "text/plain": [
       "    self_employed  family_history  age        country  privacy  treated  \\\n",
       "18            1.0             1.0   46  United States      1.0      0.0   \n",
       "19            1.0             1.0   36         France      1.0      0.0   \n",
       "20            0.0             1.0   29  United States      0.0      1.0   \n",
       "21            1.0             0.0   31  United States      1.0      0.0   \n",
       "22            0.0             0.0   46  United States      0.2      1.0   \n",
       "\n",
       "    care_coverage  talk_to_coworkers  talk_to_supervisors  tech_organization  \\\n",
       "18            0.0                1.0                  1.0                1.0   \n",
       "19            0.0                0.5                  0.5                1.0   \n",
       "20            1.0                0.5                  0.5                1.0   \n",
       "21            0.0                0.5                  0.5                1.0   \n",
       "22            1.0                0.5                  1.0                1.0   \n",
       "\n",
       "    ...  no_employees_100-500  no_employees_26-100  no_employees_500-1000  \\\n",
       "18  ...                     0                    0                      0   \n",
       "19  ...                     0                    0                      0   \n",
       "20  ...                     1                    0                      0   \n",
       "21  ...                     0                    0                      0   \n",
       "22  ...                     0                    1                      0   \n",
       "\n",
       "    no_employees_6-25  no_employees_More than 1000  gender_m  \\\n",
       "18                  0                            0         1   \n",
       "19                  1                            0         1   \n",
       "20                  0                            0         1   \n",
       "21                  0                            0         1   \n",
       "22                  0                            0         1   \n",
       "\n",
       "    work_interfere_Not applicable to me  work_interfere_Often  \\\n",
       "18                                    0                     0   \n",
       "19                                    0                     0   \n",
       "20                                    0                     0   \n",
       "21                                    0                     0   \n",
       "22                                    0                     1   \n",
       "\n",
       "    work_interfere_Rarely  work_interfere_Sometimes  \n",
       "18                      0                         1  \n",
       "19                      0                         1  \n",
       "20                      0                         1  \n",
       "21                      0                         0  \n",
       "22                      0                         0  \n",
       "\n",
       "[5 rows x 26 columns]"
      ]
     },
     "execution_count": 403,
     "metadata": {},
     "output_type": "execute_result"
    }
   ],
   "source": [
    "# get dummy variables of catogerical ones\n",
    "cat_feats = ['no_employees', 'gender', 'work_interfere']\n",
    "final_df = pd.get_dummies(df_copied,columns=cat_feats,drop_first=True)\n",
    "final_df.head()"
   ]
  },
  {
   "cell_type": "code",
   "execution_count": 383,
   "metadata": {},
   "outputs": [],
   "source": [
    "# Define X (features) and y (target) and split the data to train and test\n",
    "X = final_df.drop(['treated', 'country'],axis=1)\n",
    "y = final_df['treated']\n",
    "X_train, X_test, y_train, y_test = train_test_split(X, y, test_size=0.3, random_state=101)"
   ]
  },
  {
   "cell_type": "markdown",
   "metadata": {},
   "source": [
    "### Modelling: Logistic Regression"
   ]
  },
  {
   "cell_type": "code",
   "execution_count": 384,
   "metadata": {},
   "outputs": [
    {
     "name": "stdout",
     "output_type": "stream",
     "text": [
      "              precision    recall  f1-score   support\n",
      "\n",
      "         0.0       0.77      0.78      0.77       429\n",
      "         1.0       0.73      0.72      0.73       362\n",
      "\n",
      "    accuracy                           0.75       791\n",
      "   macro avg       0.75      0.75      0.75       791\n",
      "weighted avg       0.75      0.75      0.75       791\n",
      "\n",
      "Confusion Matrix: \n",
      " [[334  95]\n",
      " [100 262]]\n"
     ]
    }
   ],
   "source": [
    "# Define logestic regressin model, fit train data and get prediction on test\n",
    "lg = LogisticRegression(random_state=42, solver='liblinear', multi_class='ovr')\n",
    "lg.fit(X_train, y_train)\n",
    "predictions = lg.predict(X_test)\n",
    "print(classification_report(y_test,predictions))\n",
    "print('Confusion Matrix: \\n', confusion_matrix(y_test,predictions))"
   ]
  },
  {
   "cell_type": "markdown",
   "metadata": {},
   "source": [
    "### Modelling: Random Forest"
   ]
  },
  {
   "cell_type": "code",
   "execution_count": 412,
   "metadata": {
    "scrolled": true
   },
   "outputs": [
    {
     "name": "stdout",
     "output_type": "stream",
     "text": [
      "              precision    recall  f1-score   support\n",
      "\n",
      "         0.0       0.79      0.75      0.77       429\n",
      "         1.0       0.72      0.76      0.74       362\n",
      "\n",
      "    accuracy                           0.75       791\n",
      "   macro avg       0.75      0.75      0.75       791\n",
      "weighted avg       0.76      0.75      0.76       791\n",
      "\n",
      "Accuracy: 0.75474\n",
      "Confusion Matrix: \n",
      " [[323 106]\n",
      " [ 88 274]]\n"
     ]
    }
   ],
   "source": [
    "# Define random forest model, fit train data and get prediction on test\n",
    "rfc = RandomForestClassifier(n_estimators=1000)\n",
    "rfc.fit(X_train,y_train)\n",
    "predictions = rfc.predict(X_test)\n",
    "print(classification_report(y_test,predictions))\n",
    "print('Accuracy:', round(accuracy_score(y_test, predictions), 5))\n",
    "print('Confusion Matrix: \\n', confusion_matrix(y_test,predictions))"
   ]
  },
  {
   "cell_type": "code",
   "execution_count": null,
   "metadata": {},
   "outputs": [],
   "source": []
  }
 ],
 "metadata": {
  "kernelspec": {
   "display_name": "Python 3",
   "language": "python",
   "name": "python3"
  },
  "language_info": {
   "codemirror_mode": {
    "name": "ipython",
    "version": 3
   },
   "file_extension": ".py",
   "mimetype": "text/x-python",
   "name": "python",
   "nbconvert_exporter": "python",
   "pygments_lexer": "ipython3",
   "version": "3.7.3"
  }
 },
 "nbformat": 4,
 "nbformat_minor": 2
}
